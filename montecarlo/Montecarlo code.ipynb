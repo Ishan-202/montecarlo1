{
 "cells": [
  {
   "cell_type": "code",
   "execution_count": 2,
   "id": "65bcb51a",
   "metadata": {},
   "outputs": [
    {
     "name": "stdout",
     "output_type": "stream",
     "text": [
      " Energy of       [0 0 0 0 0 0 1 1]  is  3.6\n",
      " Index 16 =  01101010\n",
      " Energy of       [0 1 1 0 1 0 1 0]  is  -4.0\n"
     ]
    }
   ],
   "source": [
    "import numpy as np\n",
    "import matplotlib as mpl\n",
    "from matplotlib import pyplot as plt\n",
    "import montecarlo\n",
    "import random\n",
    "\n",
    "# Define number of sites\n",
    "N = 8\n",
    "\n",
    "# Define configuration\n",
    "conf = montecarlo.BitString(N=N)\n",
    "conf.set_config([0, 0, 0, 0, 0, 0, 1, 1])\n",
    "\n",
    "# Choose a J-coupling constant, `Jval`:\n",
    "Jval = 1.0\n",
    "mu = [.1 for i in range(N)]\n",
    "J = []\n",
    "for i in range(N):\n",
    "    J.append([((i+1) % N, Jval), ((i-1) % N, Jval)])\n",
    "ham = montecarlo.IsingHamiltonian(J=J, mu=mu)\n",
    "\n",
    "Ei = ham.energy(conf)\n",
    "print(\" Energy of      \", conf.config, \" is \", Ei)\n",
    "\n",
    "# Now we can use our integer-binary encoding to define a configuration\n",
    "# and get the energy\n",
    "conf.set_int_config(106)\n",
    "print(\" Index 16 = \", conf)\n",
    "Ei = ham.energy(conf)\n",
    "print(\" Energy of      \", conf.config, \" is \", Ei)"
   ]
  },
  {
   "cell_type": "code",
   "execution_count": 3,
   "id": "ff8697a0",
   "metadata": {},
   "outputs": [
    {
     "name": "stdout",
     "output_type": "stream",
     "text": [
      " E  = -11.90432015\n",
      " M  =  -0.02660820\n",
      " HC =   0.59026994\n",
      " MS =   0.05404295\n"
     ]
    }
   ],
   "source": [
    "import numpy as np\n",
    "import matplotlib as mpl\n",
    "from matplotlib import pyplot as plt\n",
    "import montecarlo\n",
    "import random\n",
    "\n",
    "# Define my hamiltonian values\n",
    "N = 6\n",
    "Jval = 2\n",
    "mu = [1.1 for i in range(N)]\n",
    "J = []\n",
    "for i in range(N):\n",
    "        J.append([((i+1) % N, Jval), ((i-1) % N, Jval)])\n",
    "ham = montecarlo.IsingHamiltonian(J=J, mu=mu)\n",
    "\n",
    "# Define a new configuration instance for a 6-site lattice\n",
    "conf = montecarlo.BitString(N=N)\n",
    "\n",
    "# Compute the average values for Temperature = 1\n",
    "E, M, HC, MS = ham.compute_average_values(conf, 1)\n",
    "\n",
    "\n",
    "print(\" E  = %12.8f\" %E)\n",
    "print(\" M  = %12.8f\" %M)\n",
    "print(\" HC = %12.8f\" %HC)\n",
    "print(\" MS = %12.8f\" %MS)"
   ]
  },
  {
   "cell_type": "code",
   "execution_count": 4,
   "id": "a214cbd5",
   "metadata": {},
   "outputs": [
    {
     "name": "stdout",
     "output_type": "stream",
     "text": [
      "[-8.0, -7.99999970526223, -7.999798430196311, -7.994626039075609, -7.961437516180502, -7.8585231913526, -7.651714225820653, -7.3397034162352, -6.953750602640801, -6.5369633891736845, -6.124825581359605, -5.7382611549572875, -5.3858952654736045, -5.068876318919496, -4.784774849392215, -4.529901117112326, -4.300444792869897, -4.09294062995279, -3.9044030849293043, -3.7323185010164255, -3.5745866498668972, -3.429452039395514, -3.2954406470416164, -3.171306716471759, -3.0559897819447377, -2.948580546365745, -2.848293927264706, -2.754447729843159, -2.666445679894414, -2.5837638234457545, -2.5059395323159075, -2.4325625382833524, -2.3632675585835012, -2.2977281805417733, -2.2356517515037186, -2.176775078616606, -2.1208607866812494, -2.0676942151346953, -2.0170807601116385, -1.9688435865486271, -1.9228216499552415, -1.8788679788799671, -1.8368481780483108, -1.7966391192345528, -1.7581277925841332, -1.7212102956514872, -1.6857909411047056, -1.651781467055418, -1.619100336441713, -1.5876721139315304, -1.5574269105074208, -1.5282998873075984, -1.5002308114834921, -1.473163657832553, -1.4470462508094302, -1.421829942235438, -1.3974693206365014, -1.3739219486619518, -1.3511481254835016, -1.3291106714585204, -1.307774732673421, -1.2871076032694213, -1.2670785637016901, -1.247658733298311, -1.2288209356738504, -1.2105395757158226, -1.192790527006086, -1.1755510286645916, -1.1587995907131234, -1.1425159071538793, -1.1266807760429518, -1.111276025914186, -1.0962844479757525, -1.0816897335605333, -1.0674764163640211, -1.0536298190497206, -1.040136003843609, -1.0269817267759735, -1.0141543952617798, -1.00164202874027, -0.9894332221206432, -0.9775171118042231, -0.9658833440747062, -0.9545220456670578, -0.9434237963425476, -0.9325796033129422, -0.921980877370593, -0.9116194105937101, -0.9014873555073276, -0.8915772055907923, -0.8818817770316196, -0.8723941916342195, -0.8631078607993401, -0.8540164704970793, -0.8451139671626193, -0.836394544449432, -0.8278526307799975, -0.8194828776387406, -0.8112801485562837]\n"
     ]
    }
   ],
   "source": [
    "import numpy as np\n",
    "import matplotlib as mpl\n",
    "mpl.use('TkAgg')\n",
    "from matplotlib import pyplot as plt\n",
    "import montecarlo\n",
    "import random\n",
    "# First initialize some empty lists to store our computed quantites\n",
    "e_list = []\n",
    "e2_list = []\n",
    "m_list = []\n",
    "m2_list = []\n",
    "T_list = []\n",
    "\n",
    "# Now pick some new values for our hamiltonian\n",
    "N = 8\n",
    "Jval = 1\n",
    "mu = [.1 for i in range(N)]\n",
    "J = []\n",
    "for i in range(N):\n",
    "        J.append([((i+1) % N, Jval), ((i-1) % N, Jval)])\n",
    "ham = montecarlo.IsingHamiltonian(J=J, mu=mu)\n",
    "\n",
    "conf = montecarlo.BitString(N=N)\n",
    "\n",
    "for Ti in range(1,100):\n",
    "        T = .1*Ti\n",
    "\n",
    "        E, M, HC, MS = ham.compute_average_values(conf, T)\n",
    "\n",
    "        e_list.append(E)\n",
    "        m_list.append(M)\n",
    "        e2_list.append(HC)\n",
    "        m2_list.append(MS)\n",
    "        T_list.append(T)\n",
    "\n",
    "\n",
    "print(e_list)\n",
    "plt.plot(T_list, e_list, label=\"energy\");\n",
    "plt.plot(T_list, m_list, label=\"magnetization\");\n",
    "plt.plot(T_list, m2_list, label=\"Susceptibility\");\n",
    "plt.plot(T_list, e2_list, label=\"Heat Capacity\");\n",
    "plt.legend();\n",
    "plt.savefig('prop_vs_T.pdf')\n",
    "plt.show()"
   ]
  },
  {
   "cell_type": "code",
   "execution_count": null,
   "id": "df309cd1",
   "metadata": {},
   "outputs": [],
   "source": []
  }
 ],
 "metadata": {
  "kernelspec": {
   "display_name": "Python 3 (ipykernel)",
   "language": "python",
   "name": "python3"
  },
  "language_info": {
   "codemirror_mode": {
    "name": "ipython",
    "version": 3
   },
   "file_extension": ".py",
   "mimetype": "text/x-python",
   "name": "python",
   "nbconvert_exporter": "python",
   "pygments_lexer": "ipython3",
   "version": "3.10.9"
  }
 },
 "nbformat": 4,
 "nbformat_minor": 5
}
